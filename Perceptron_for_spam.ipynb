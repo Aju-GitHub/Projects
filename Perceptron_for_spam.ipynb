{
  "cells": [
    {
      "cell_type": "markdown",
      "metadata": {
        "id": "view-in-github",
        "colab_type": "text"
      },
      "source": [
        "<a href=\"https://colab.research.google.com/github/Aju-GitHub/Projects/blob/DeepLearning/Perceptron_for_spam.ipynb\" target=\"_parent\"><img src=\"https://colab.research.google.com/assets/colab-badge.svg\" alt=\"Open In Colab\"/></a>"
      ]
    },
    {
      "cell_type": "code",
      "source": [
        "from sklearn.datasets import load_digits\n",
        "from sklearn.linear_model import Perceptron\n",
        "X, y = load_digits(return_X_y=True)\n",
        "clf = Perceptron(tol=1e-3, random_state=0)\n",
        "clf.fit(X, y)\n",
        "\n",
        "clf.score(X, y)"
      ],
      "metadata": {
        "id": "EtvfPEyKXwMa",
        "outputId": "3b044887-40b8-4e8c-983f-07821ff025cf",
        "colab": {
          "base_uri": "https://localhost:8080/"
        }
      },
      "execution_count": null,
      "outputs": [
        {
          "output_type": "execute_result",
          "data": {
            "text/plain": [
              "0.9393433500278241"
            ]
          },
          "metadata": {},
          "execution_count": 21
        }
      ]
    },
    {
      "cell_type": "code",
      "source": [
        "def predict(row, weights):\n",
        "\tactivation = weights[0]\n",
        "\tfor i in range(len(row)-1):\n",
        "\t\tactivation += weights[i + 1] * row[i]\n",
        "\treturn 1.0 if activation >= 0.0 else 0.0"
      ],
      "metadata": {
        "id": "MLi7g2syk6E0"
      },
      "execution_count": null,
      "outputs": []
    },
    {
      "cell_type": "code",
      "source": [
        "dataset = [[2.7810836,2.550537003,0],\n",
        "\t[1.465489372,2.362125076,0],\n",
        "\t[3.396561688,4.400293529,0],\n",
        "\t[1.38807019,1.850220317,0],\n",
        "\t[3.06407232,3.005305973,0],\n",
        "\t[7.627531214,2.759262235,1],\n",
        "\t[5.332441248,2.088626775,1],\n",
        "\t[6.922596716,1.77106367,1],\n",
        "\t[8.675418651,-0.242068655,1],\n",
        "\t[7.673756466,3.508563011,1]]\n",
        "weights = [-0.1, 0.20653640140000007, -0.23418117710000003]\n",
        "for row in dataset:\n",
        "\tprediction = predict(row, weights)\n",
        "\tprint(\"Expected=%d, Predicted=%d\" % (row[-1], prediction))"
      ],
      "metadata": {
        "id": "xL8LH8z5hh6u",
        "outputId": "7e6ec007-b1d8-4be4-a0ac-6db7453cba29",
        "colab": {
          "base_uri": "https://localhost:8080/"
        }
      },
      "execution_count": null,
      "outputs": [
        {
          "output_type": "stream",
          "name": "stdout",
          "text": [
            "Expected=0, Predicted=0\n",
            "Expected=0, Predicted=0\n",
            "Expected=0, Predicted=0\n",
            "Expected=0, Predicted=0\n",
            "Expected=0, Predicted=0\n",
            "Expected=1, Predicted=1\n",
            "Expected=1, Predicted=1\n",
            "Expected=1, Predicted=1\n",
            "Expected=1, Predicted=1\n",
            "Expected=1, Predicted=1\n"
          ]
        }
      ]
    },
    {
      "cell_type": "code",
      "source": [
        "def train_weights(train, l_rate, n_epoch):\n",
        "\tweights = [0.0 for i in range(len(train[0]))]\n",
        "\tfor epoch in range(n_epoch):\n",
        "\t\tsum_error = 0.0\n",
        "\t\tfor row in train:\n",
        "\t\t\tprediction = predict(row, weights)\n",
        "\t\t\terror = row[-1] - prediction\n",
        "\t\t\tsum_error += error**2\n",
        "\t\t\tweights[0] = weights[0] + l_rate * error\n",
        "\t\t\tfor i in range(len(row)-1):\n",
        "\t\t\t\tweights[i + 1] = weights[i + 1] + l_rate * error * row[i]\n",
        "\t\tprint('>epoch=%d, lrate=%.3f, error=%.3f' % (epoch, l_rate, sum_error))\n",
        "\treturn weights"
      ],
      "metadata": {
        "id": "2SeGFYS-c4T8"
      },
      "execution_count": null,
      "outputs": []
    },
    {
      "cell_type": "code",
      "source": [
        "def predict(row, weights):\n",
        "\tactivation = weights[0]\n",
        "\tfor i in range(len(row)-1):\n",
        "\t\tactivation += weights[i + 1] * row[i]\n",
        "\treturn 1.0 if activation >= 0.0 else 0.0\n",
        " \n",
        "# Estimate Perceptron weights using stochastic gradient descent\n",
        "def train_weights(train, l_rate, n_epoch):\n",
        "\tweights = [0.0 for i in range(len(train[0]))]\n",
        "\tfor epoch in range(n_epoch):\n",
        "\t\tsum_error = 0.0\n",
        "\t\tfor row in train:\n",
        "\t\t\tprediction = predict(row, weights)\n",
        "\t\t\terror = row[-1] - prediction\n",
        "\t\t\tsum_error += error**2\n",
        "\t\t\tweights[0] = weights[0] + l_rate * error\n",
        "\t\t\tfor i in range(len(row)-1):\n",
        "\t\t\t\tweights[i + 1] = weights[i + 1] + l_rate * error * row[i]\n",
        "\t\tprint('>epoch=%d, lrate=%.3f, error=%.3f' % (epoch, l_rate, sum_error))\n",
        "\treturn weights\n",
        " \n",
        "# Calculate weights\n",
        "dataset = [[2.7810836,2.550537003,0],\n",
        "\t[1.465489372,2.362125076,0],\n",
        "\t[3.396561688,4.400293529,0],\n",
        "\t[1.38807019,1.850220317,0],\n",
        "\t[3.06407232,3.005305973,0],\n",
        "\t[7.627531214,2.759262235,1],\n",
        "\t[5.332441248,2.088626775,1],\n",
        "\t[6.922596716,1.77106367,1],\n",
        "\t[8.675418651,-0.242068655,1],\n",
        "\t[7.673756466,3.508563011,1]]\n",
        "l_rate = 0.1\n",
        "n_epoch = 5\n",
        "weights = train_weights(dataset, l_rate, n_epoch)\n",
        "print(weights)"
      ],
      "metadata": {
        "id": "GM9Hsa5Vc5-D",
        "outputId": "db10d189-e21d-4898-d543-d35ae0e87bf6",
        "colab": {
          "base_uri": "https://localhost:8080/"
        }
      },
      "execution_count": null,
      "outputs": [
        {
          "output_type": "stream",
          "name": "stdout",
          "text": [
            ">epoch=0, lrate=0.100, error=2.000\n",
            ">epoch=1, lrate=0.100, error=1.000\n",
            ">epoch=2, lrate=0.100, error=0.000\n",
            ">epoch=3, lrate=0.100, error=0.000\n",
            ">epoch=4, lrate=0.100, error=0.000\n",
            "[-0.1, 0.20653640140000007, -0.23418117710000003]\n"
          ]
        }
      ]
    },
    {
      "cell_type": "code",
      "source": [
        "\n",
        "model = Perceptron(eta0=1.0)"
      ],
      "metadata": {
        "id": "nzELdaRqh1jQ"
      },
      "execution_count": null,
      "outputs": []
    },
    {
      "cell_type": "code",
      "source": [
        "model = Perceptron(max_iter=1000)"
      ],
      "metadata": {
        "id": "Ywhy1qDflxf4"
      },
      "execution_count": null,
      "outputs": []
    },
    {
      "cell_type": "code",
      "source": [
        "# test classification dataset\n",
        "from sklearn.datasets import make_classification\n",
        "# define dataset\n",
        "X, y = make_classification(n_samples=1000, n_features=10, n_informative=10, n_redundant=0, random_state=1)\n",
        "# summarize the dataset\n",
        "print(X.shape, y.shape)"
      ],
      "metadata": {
        "id": "lWkAOBBvl0QH",
        "outputId": "ecff57eb-a08b-48a6-b5a4-a9ad0259b2d8",
        "colab": {
          "base_uri": "https://localhost:8080/"
        }
      },
      "execution_count": null,
      "outputs": [
        {
          "output_type": "stream",
          "name": "stdout",
          "text": [
            "(1000, 10) (1000,)\n"
          ]
        }
      ]
    },
    {
      "cell_type": "code",
      "source": [
        "# create the model\n",
        "model = Perceptron()"
      ],
      "metadata": {
        "id": "GeElVxZSl60O"
      },
      "execution_count": null,
      "outputs": []
    },
    {
      "cell_type": "code",
      "source": [
        "\n",
        "# evaluate a perceptron model on the dataset\n",
        "from numpy import mean\n",
        "from numpy import std\n",
        "from sklearn.datasets import make_classification\n",
        "from sklearn.model_selection import cross_val_score\n",
        "from sklearn.model_selection import RepeatedStratifiedKFold\n",
        "from sklearn.linear_model import Perceptron\n",
        "# define dataset\n",
        "X, y = make_classification(n_samples=1000, n_features=10, n_informative=10, n_redundant=0, random_state=1)\n",
        "# define model\n",
        "model = Perceptron()\n",
        "# define model evaluation method\n",
        "cv = RepeatedStratifiedKFold(n_splits=10, n_repeats=3, random_state=1)\n",
        "# evaluate model\n",
        "scores = cross_val_score(model, X, y, scoring='accuracy', cv=cv, n_jobs=-1)\n",
        "# summarize result\n",
        "print('Mean Accuracy: %.3f (%.3f)' % (mean(scores), std(scores)))"
      ],
      "metadata": {
        "id": "9jW_2sXLmAd4",
        "outputId": "d4b1be8b-07d7-4435-ba2f-fac47bd9d235",
        "colab": {
          "base_uri": "https://localhost:8080/"
        }
      },
      "execution_count": null,
      "outputs": [
        {
          "output_type": "stream",
          "name": "stdout",
          "text": [
            "Mean Accuracy: 0.847 (0.052)\n"
          ]
        }
      ]
    },
    {
      "cell_type": "code",
      "source": [
        "from google.colab import drive\n",
        "drive.mount('/content/drive')"
      ],
      "metadata": {
        "id": "sHZI_b2_mwJe",
        "outputId": "a8d3b111-2ca6-4a41-9e85-046919134c90",
        "colab": {
          "base_uri": "https://localhost:8080/"
        }
      },
      "execution_count": null,
      "outputs": [
        {
          "output_type": "stream",
          "name": "stdout",
          "text": [
            "Drive already mounted at /content/drive; to attempt to forcibly remount, call drive.mount(\"/content/drive\", force_remount=True).\n"
          ]
        }
      ]
    },
    {
      "cell_type": "code",
      "source": [
        "data=pd.read_csv('/Spam/spambase.data')"
      ],
      "metadata": {
        "id": "kWlo-LOwm2zc"
      },
      "execution_count": null,
      "outputs": []
    },
    {
      "cell_type": "code",
      "source": [
        "# make a prediction with a perceptron model on the dataset\n",
        "from sklearn.datasets import make_classification\n",
        "from sklearn.linear_model import Perceptron\n",
        "# define dataset\n",
        "X, y = make_classification(n_samples=1000, n_features=3770, n_informative=10, n_redundant=0, random_state=1)\n",
        "# define model\n",
        "model = Perceptron()\n",
        "# fit model\n",
        "model.fit(X, y)\n",
        "# define new data\n",
        "row = [0,0.64,0.64,0,0.32,0,0,0,0,0,0,0.64,0,0,0,0.32,0,1.29,1.93,0,0.96,0,0,0,0,0,0,0,0,0,0,0,0,0,0,0,0,0,0,0,0,0,0,0,0,0,0,0,0,0,0,0.778,0,0,3.756,61,278,1,\n",
        "       0.21,0.28,0.5,0,0.14,0.28,0.21,0.07,0,0.94,0.21,0.79,0.65,0.21,0.14,0.14,0.07,0.28,3.47,0,1.59,0,0.43,0.43,0,0,0,0,0,0,0,0,0,0,0,0,0.07,0,0,0,0,0,0,0,0,0,0,0,0,0.132,0,0.372,0.18,0.048,5.114,101,1028,1,\n",
        "       0.06,0,0.71,0,1.23,0.19,0.19,0.12,0.64,0.25,0.38,0.45,0.12,0,1.75,0.06,0.06,1.03,1.36,0.32,0.51,0,1.16,0.06,0,0,0,0,0,0,0,0,0,0,0,0,0,0,0,0.06,0,0,0.12,0,0.06,0.06,0,0,0.01,0.143,0,0.276,0.184,0.01,9.821,485,2259,1,\n",
        "       0,0,0,0,0.63,0,0.31,0.63,0.31,0.63,0.31,0.31,0.31,0,0,0.31,0,0,3.18,0,0.31,0,0,0,0,0,0,0,0,0,0,0,0,0,0,0,0,0,0,0,0,0,0,0,0,0,0,0,0,0.137,0,0.137,0,0,3.537,40,191,1,\n",
        "       0,0,0,0,0.63,0,0.31,0.63,0.31,0.63,0.31,0.31,0.31,0,0,0.31,0,0,3.18,0,0.31,0,0,0,0,0,0,0,0,0,0,0,0,0,0,0,0,0,0,0,0,0,0,0,0,0,0,0,0,0.135,0,0.135,0,0,3.537,40,191,1,\n",
        "       0,0,0,0,1.85,0,0,1.85,0,0,0,0,0,0,0,0,0,0,0,0,0,0,0,0,0,0,0,0,0,0,0,0,0,0,0,0,0,0,0,0,0,0,0,0,0,0,0,0,0,0.223,0,0,0,0,3,15,54,1,\n",
        "       0,0,0,0,1.92,0,0,0,0,0.64,0.96,1.28,0,0,0,0.96,0,0.32,3.85,0,0.64,0,0,0,0,0,0,0,0,0,0,0,0,0,0,0,0,0,0,0,0,0,0,0,0,0,0,0,0,0.054,0,0.164,0.054,0,1.671,4,112,1,\n",
        "       0,0,0,0,1.88,0,0,1.88,0,0,0,0,0,0,0,0,0,0,0,0,0,0,0,0,0,0,0,0,0,0,0,0,0,0,0,0,0,0,0,0,0,0,0,0,0,0,0,0,0,0.206,0,0,0,0,2.45,11,49,1,\n",
        "       0.15,0,0.46,0,0.61,0,0.3,0,0.92,0.76,0.76,0.92,0,0,0,0,0,0.15,1.23,3.53,2,0,0,0.15,0,0,0,0,0,0,0,0,0.15,0,0,0,0,0,0,0,0,0,0.3,0,0,0,0,0,0,0.271,0,0.181,0.203,0.022,9.744,445,1257,1,\n",
        "       0.06,0.12,0.77,0,0.19,0.32,0.38,0,0.06,0,0,0.64,0.25,0,0.12,0,0,0.12,1.67,0.06,0.71,0,0.19,0,0,0,0,0,0,0,0,0,0,0,0,0,0,0,0,0,0,0,0,0.06,0,0,0,0,0.04,0.03,0,0.244,0.081,0,1.729,43,749,1,\n",
        "       0,0,0,0,0,0,0.96,0,0,1.92,0.96,0,0,0,0,0,0,0.96,3.84,0,0.96,0,0,0,0,0,0,0,0,0,0,0,0,0,0,0,0,0,0,0.96,0,0,0,0,0,0,0,0,0,0,0,0.462,0,0,1.312,6,21,1,\n",
        "       0,0,0.25,0,0.38,0.25,0.25,0,0,0,0.12,0.12,0.12,0,0,0,0,0,1.16,0,0.77,0,0,0,0,0,0,0,0,0,0,0,0,0,0,0,0,0,0,0,0,0,0,0,0,0,0,0,0.022,0.044,0,0.663,0,0,1.243,11,184,1,\n",
        "       0,0.69,0.34,0,0.34,0,0,0,0,0,0,0.69,0,0,0,0.34,0,1.39,2.09,0,1.04,0,0,0,0,0,0,0,0,0,0,0,0,0,0,0,0,0,0,0,0,0,0,0,0,0,0,0,0,0.056,0,0.786,0,0,3.728,61,261,1,\n",
        "       0,0,0,0,0.9,0,0.9,0,0,0.9,0.9,0,0.9,0,0,0,0,0,2.72,0,0.9,0,0,0,0,0,0,0,0,0,0,0,0,0,0,0,0,0,0,0,0,0,0,0,0,0,0,0,0,0,0,0,0,0,2.083,7,25,1,\n",
        "       0,0,1.42,0,0.71,0.35,0,0.35,0,0.71,0,0.35,0,0,0,5.35,0,0,3.21,0,2.85,0,0.35,0,0,0,0,0,0,0,0,0,0,0,0,0,0,0,0,0,0,0,0,0,0,0,0,0,0,0.102,0,0.357,0,0,1.971,24,205,1,\n",
        "       0,0.42,0.42,0,1.27,0,0.42,0,0,1.27,0,0,0,0,0,1.27,0,0,1.7,0.42,1.27,0,0,0.42,0,0,0,0,0,0,0,0,0,0,0,0,1.27,0,0,0.42,0,0,0,0,0,0,0,0,0,0.063,0,0.572,0.063,0,5.659,55,249,1,\n",
        "       0,0,0,0,0.94,0,0,0,0,0,0,0,0,0,0,0,0,0,1.88,0,2.83,0,0,0,0,0,0,0,0,0,0,0,0,0,0,0,0,0,0,0,0,0,0,0,0,0,0,0,0,0,0,0.428,0,0,4.652,31,107,1,\n",
        "       0,0,0,0,0,0,0,0,0,0,0,0,0,0,0,0,0,0,0,0,2.11,0,0.7,0,0,0,0,0,0,0,0,0,0,0,0,0,0,0,0,0,0,0,0,0,0,0,0,0,0,0,0,1.975,0.37,0,35.461,95,461,1,\n",
        "       0,0,0.55,0,1.11,0,0.18,0,0,0,0,0,0.92,0,0.18,0,0.37,0.37,3.15,0,0.92,0,0,0,0,0,0,0,0,0,0,0,0,0,0,0,0,0,0,0,0,0,0,0,0,0,0,0,0,0.182,0,0.455,0,0,1.32,4,70,1,\n",
        "       0,0.63,0,0,1.59,0.31,0,0,0.31,0,0,0.63,0,0,1.27,0.63,0.31,3.18,2.22,0,1.91,0,0.31,0.63,0,0,0,0.31,0,0,0,0,0,0,0,0,0,0,0,1.59,0,0,0,0,0,0,0,0,0,0.275,0,0.055,0.496,0,3.509,91,186,1,\n",
        "       0,0,0,0,0,0,0,0,0,0,0,0,0,0,0,0,0,0,0,0,0,0,0,0,0,0,0,0,0,0,0,0,0,0,0,0,0,0,0,0,0,0,0,0,0,0,0,0,0,0.729,0,0.729,0,0,3.833,9,23,1,\n",
        "       0.05,0.07,0.1,0,0.76,0.05,0.15,0.02,0.55,0,0.1,0.47,0.02,0,0,0,0.02,0.13,2.09,0.1,1.57,0,0.05,0,0,0,0,0,0,0,0,0,0,0,0,0.02,0.1,0,0,0,0,0,0,0,0,0,0,0,0.042,0.101,0.016,0.25,0.046,0.059,2.569,66,2259,1,\n",
        "       0,0,0,0,2.94,0,0,0,0,0,0,0,0,0,0,2.94,0,0,0,0,0,0,0,0,0,0,0,0,0,0,0,0,0,0,0,0,0,0,0,0,0,0,0,0,0,0,0,0,0.404,0.404,0,0.809,0,0,4.857,12,34,1,\n",
        "       0,0,0,0,1.16,0,0,0,0,0,0,0.58,0,0,0,1.16,0,1.16,1.16,0,1.75,0,0,0,0,0,0,0,0,0,0,0,0,0,0,0,0,0,0,0,0,0,0,0,0,0,0,0,0,0.133,0,0.667,0,0,1.131,5,69,1,\n",
        "       0,0,0,0,0,0,0,0,0,0,0,0,0,0,0,0,0,0,0,0,0,0,0,0,0,0,0,0,0,0,0,0,0,0,0,0,0,0,0,0,0,0,0,0,1.44,0,0,0,0,0.196,0,0.392,0.196,0,5.466,22,82,1,\n",
        "       0.05,0.07,0.1,0,0.76,0.05,0.15,0.02,0.55,0,0.1,0.47,0.02,0,0,0,0.02,0.13,2.09,0.1,1.57,0,0.05,0,0,0,0,0,0,0,0,0,0,0,0,0.02,0.1,0,0,0,0,0,0,0,0,0,0,0,0.042,0.101,0.016,0.25,0.046,0.059,2.565,66,2258,1,\n",
        "       0,0,0,0,0,0,0,0,0,0,0,0,0,0,0,0,0,0,0,0,0,0,0,0,0,0,0,0,0,0,0,0,0,0,0,0,0,0,0,0,0,0,0,0,1.44,0,0,0,0,0.196,0,0.392,0.196,0,5.466,22,82,1,\n",
        "       0,0,0,0,0,0,1.66,0,0,0,0,0,0,0,0,0,0,0,3.33,0,0,0,0,3.33,0,0,0,0,0,0,0,0,0,0,0,0,0,0,0,0,0,0,0,0,0,0,0,0,0,0,0,0.368,0,0,2.611,12,47,1,\n",
        "       0,0,0,0,0,0,0,0,0,0,0,0,0,0,0,3.33,0,0,0,0,0,0,0,0,0,0,0,0,0,0,0,0,0,0,0,0,0,0,0,0,0,0,0,0,0,0,0,0,0,0.352,0,0.352,0,0,4,11,36,1,\n",
        "       0,0,0,0,0.65,0,0.65,0,0,0,0.65,0.65,0,0,0,0.65,1.3,0,1.3,5.22,1.3,0,0,0.65,0,0,0,0,0,0,0,0,0,0,0,0,0,0,0,0,0,0,0,0,0,0,0,0,0,0.459,0,0.091,0,0,2.687,66,129,1,\n",
        "       1.17,0,0,0,0,0,0,0,0,0,0,1.17,0,0,0,0,1.17,0,3.52,0,0,0,0,0,0,0,0,0,0,0,0,0,0,0,0,0,0,0,0,0,0,0,0,0,1.17,0,0,0,0,0,0,0.886,0,0,1.966,10,59,1,\n",
        "       0,0,3.03,0,0,0,0,0,0,0,0,0,0,0,0,3.03,0,0,0,0,0,0,0,0,0,0,0,0,0,0,0,0,0,0,0,0,0,0,0,0,0,0,0,0,0,0,0,0,0,0.352,0,2.112,0,0,3.909,11,43,1,\n",
        "       0.67,0,0,0,0.67,0,0,0,0,0,0,0,0,0,0,0,0,0,1.34,0,0,0,0,0,0,0,0,0,0,0,0,0,0,0,0,0,0,0,0.67,0,0,1.34,0,0,2.01,1.34,0,0,0,0.29,0,0,0,0.096,2.432,15,90,0,\n",
        "       0.25,0,0.5,0,0.25,0,0,0,0,0,0,0.5,0,0,0,0,0,0.75,6.28,0,0.75,0,0,0,0,0,0,0,0,0,0,0,0,0,0,0,0,0,0,0,0,0,0,0,0.5,0.25,0,0,0.048,0,0,0,0,0,1,1,42,0,\n",
        "       0,0,0,0,0,0,0,0,0,0,0,0.5,1.01,0,0,0.5,0,0.5,2.53,0,0.5,0,0,0,0,0,0,0,0,0,0,0,0,0,0,0,0,0,0,0,0,0.5,0,0,0.5,0.5,0,0,0,0.087,0,0,0.087,0,1.225,3,38,0,\n",
        "       0,0,0.46,0,0.23,0.23,0,0,0,0,0,0,0,0,0,0.23,0,0,1.63,0,0.23,0,0,0,0,0,0,0,0,0,0,0,0,0,0,0,0,0,0,0,0.46,0,0,0,0,0.23,0,0,0,0.082,0,0.082,0,0,1.256,5,98,0,\n",
        "       0,0,0,0,0,0,0,0,0,0,0,0,0,0,0,0,0,0,0,0,0,0,0,0,0,0,0,0,0,0,0,0,0,0,0,0,0,0,0,0,0,0,0,0,0,1.4,0,0,0,0.254,0,0,0,0,1,1,13,0,\n",
        "       0,0,0.18,0,0.18,0.18,0,0,0,0,0,0,0,0,0,0,0,0,2.06,0,0.56,0,0,0,0,0,0,0,0,0,0,0,0,0,0,0,0,0,0,0,0,0,0,0.37,0.56,0.37,0,0,0.033,0.033,0,0.099,0,0,1.489,11,137,0,\n",
        "       0.29,0,0.29,0,0,0,0,0,0,0.29,0,0.29,0.59,0,0,0.29,0,0,3.86,0,0.29,0,0,0,0,0,0,0,0,0,0,0,0,0,0,0,0,0,0,0,0,0,0,0,0,0.29,0,0,0,0.107,0,0,0,0,1.22,6,61,0,\n",
        "       0,0,0,0,0,0,0,0,0,1.38,0,0,0,0,0,0,0,1.38,0,0,0,0,0,0,0,0,0,0,0,0,0,0,0,0,0,0,0,0,0,0,0,0,0,0,1.38,2.77,0,0,0,0.213,0,0,0,0,1.72,11,43,0,\n",
        "       0,0,0,0,0,0,0,0,0,0,0,0.37,0.37,0,0,0,0,0,1.49,0,0,0,0,0,0,0,0,0,0,0,0,0,0,0,0,0.37,0,0,0,0,0.37,0,0,0,1.11,0.37,0,0,0,0.131,0,0,0,0,1.488,5,64,0,\n",
        "       0,0,1.2,0,0,0,0,0,0,0,0,0,0,0,0,0,0,0,3.61,0,2.4,0,0,0,0,0,0,0,0,0,0,0,0,0,0,0,0,0,0,0,0,0,0,0,0,1.2,0,0,0,0,0,0,0,0,1.2,3,24,0,\n",
        "       0,0,0.4,0,0,0,0,0,0,0,0,0,0,0,0,0,0,0,0.8,0,0,0,0,0.4,0,0,0,0,0,0,0,0,0,0,0,0,0,0,0,0,0,0,0,0,0.4,0.4,0,0,0,0,0.145,0,0,0,1.372,5,70,0,\n",
        "       0.27,0.05,0.1,0,0,0,0,0,0,0,0,0.48,0,0,0,0,0,0.1,0.97,0,0.1,3.47,0,0,0,0,0,0,0,0,0,0,0,0,0,0,0.27,0,0,0,0,0,0,0,0,0.76,0,0,0.607,0.064,0.036,0.055,0,0.202,3.766,43,1789,0,\n",
        "       0,0,0,0,0,0,0,0,0,0,0,0,0,0,0,0,0,0,0,0,0,0,0,0,0,0,0,0,0,0,0,0,0,0,0,0,0,0,0,0,4.76,0,0,0,0,4.76,0,0,0,0,0,0,0,0,1.571,5,11,0,\n",
        "       0,0,0,0,0,0.51,0,0,0,0,0,0,0,0,0,0,0,0.51,3.06,0,1.02,0,0,0,0,0,0,0,0,0,0,0,0,0,0,0,0,0,0,0,0,0,0,0,0,0.51,0,0,0,0.091,0,0.091,0,0,1.586,4,46,0,\n",
        "       0,0,0,0,0,0,0,0,0,0,0,0,0,0,0,0,0,0.89,0.89,0,0,0,0,0,0,0,0,0,0,0,0,0,0,0,0,0,0,0,0,0,0,0,0,0,0,0.89,0,0,0,0,0,0,0,0,1.266,3,19,0,\n",
        "       0,0,1.23,0,0,0,0,0,0,0,0,0,0,0,0,0,0,0.61,1.85,0,0,0,0,0,0,0,0,0,0,0,0,0,0,0,0,0,0,0,0,0,0.61,0.61,0,0,1.23,0.61,0,0,0,0,0.406,0,0,0,1.666,13,70,0,\n",
        "       0,0,0.45,0,0,0.22,0,0,0,0,0,0,0.45,0,0,0,0,0,1.83,0,0.45,0,0,0,0,0,0,0,0.22,0,0,0,0,0,0,0,0,0,0,0,0.68,0,0,0.45,0.22,0.22,0,0,0,0.082,0,0.041,0,0,1.5,7,123,0,\n",
        "       0,0,0,0,0,0,0,0,0,0,0,0,0,0,0,0,0,0,9.52,0,0,0,0,0,0,0,0,0,0,0,0,0,0,0,0,0,0,0,0,0,0,0,0,0,0,4.76,0,0,0,0.625,0,0,0,0,1.375,4,11,0,\n",
        "       0,0,0,0,0.36,0,0,0,0,0,0,3.3,0,0,0,0,0.36,0.36,1.47,0,0.36,0,0,0,0,0,0,0,0,0,0,0,0,0,0,0,0,0,1.47,0,0,0,0,0,0,0,0,0,0,0.112,0,0,0,0.056,1.793,21,174,0,\n",
        "       0,0,0,0,0,0,0,0,0,0,0,0.71,0.71,0,0,0,0,0,0.71,0,0,0,0,0,0,0,0,0,0,0,0,0,0,0,0,0,0,0,0,0,0,0,0,0,0,0.71,0,0,0,0.125,0,0,0.125,0,1.272,4,28,0,\n",
        "       0,0,3.03,0,0,0,0,0,0,0,0,0,0,0,0,0,0,0,0,0,0,0,0,0,0,0,0,0,0,0,0,0,0,0,0,0,0,0,0,0,0,0,0,0,3.03,3.03,0,0,0,0,0,0,0,0,1.111,2,10,0,\n",
        "       0,0,0,0,0.54,0,0,0,0,0,0,0.54,0,0,0,0,0,0,0.54,0,0.54,0,0,0,0,0,0,0,0,0,0,0,0,0,0,0,0,0,0,0,0,0,0,1.09,0,0.54,0,0,0,0,0,0,0,0,1,1,22,0,\n",
        "       0,0,0,0,0,0,0,0,0,0,0,0.58,0,0,0,0.58,0,0,2.9,0,0.58,0.58,0,0,0,0,0,0,0,0,0,0,0,0,0,0,0,0,0,0,0,0,0,0,0,0.58,0,0,0,0.185,0,0,0,0.092,2.468,11,79,0,\n",
        "       0,0,0,0,0,0,0,0,0,0,0,0,0,0,0,0,0,0,6.89,0,0,0,0,0,0,0,0,0,0,0,0,0,0,0,0,0,0,0,0,0,0,0,0,0,0,3.44,0,0,0,0,0,0,0,0,1,1,8,0,\n",
        "       0,0,1.25,0,2.5,0,0,0,0,0,0,0,0.62,0,0,0,0,0,0.62,0,0,0,0,0,0,0,0,0,0,0,0,0,0,0,0,0,0,0,0,0,0.62,0,0,1.25,0.62,0.62,0,0,0,0.111,0,0,0,0,1.285,4,27,0,\n",
        "       0,0,0,0,0,0,0,0,0,0,0,0,0,0,0,0,0,0,0,0,0,0,0,0,0,0,0,0,0,0,0,0,0,0,0,0,0,0,0,0,0,0,0,0,0,7.69,0,0,0,0,0,1.052,0,0,1,1,6,0,\n",
        "       0,0,0,0,0,0,0,0,0,0,0,1.61,0,0,0,0,0,0,6.45,0,0,0,0,0,0,0,0,0,0,1.61,0,0,0,0,0,0,0,0,0,0,0,0,0,0,0,1.61,0,0,0,0.63,0,0,0,0,1.727,5,19,0,\n",
        "       0,0,1.19,0,0,0,0,0,0,0,0,0,0,0,0,0,0,0.59,3.57,0,1.19,0,0,0,0,0,0,0,0,0,0,0,0,0,0,0,0,0,0,0,0,0,0,0,0,0.59,0,0,0,0,0,0,0,0,1,1,24,0,\n",
        "       0.31,0,0.62,0,0,0.31,0,0,0,0,0,1.88,0,0,0,0,0,0,0.62,0,0,0,0,0,0,0,0,0,0,0,0,0,0,0,0,0,0,0,0,0,0,0,0,0.31,0.31,0.31,0,0,0,0.232,0,0,0,0,1.142,3,88,0,\n",
        "       0,0,0,0,0,0,0,0,0,0,0,0,0,0,0,0,0,0,6,0,2,0,0,0,0,0,0,0,0,0,0,0,0,0,0,0,0,0,0,0,0,0,0,0,0,2,0,0,0,0,0,0.353,0,0,1.555,4,14,0,\n",
        "       0.3,0,0.3,0,0,0,0,0,0,0,0,1.8,0.3,0,0,0,0,0.9,1.5,0,0.3,0,0,0,0,0,0,0,0,0,0,0,0,0,0,0,0,0,0,0,0,0,0,0,0,1.2,0,0,0.102,0.718,0,0,0,0,1.404,6,118,0,\n",
        "       0.96,0,0,0,0.32,0,0,0,0,0,0,0.32,0,0,0,0,0,0,1.93,0,0.32,0,0,0,0,0,0,0,0,0,0,0,0,0,0,0,0,0,0,0,0,0,0,0.32,0,0.32,0,0,0,0.057,0,0,0,0,1.147,5,78,0,\n",
        "       0,0,0.65,0,0,0,0,0,0,0,0,0,0.65,0,0,0,0,0,4.6,0,0.65,0,0,0,0,0,0,0,0,0,0,0,0,0,0,0,0,0,0,0,0,0,0,0,1.97,0.65,0,0,0,0,0,0.125,0,0,1.25,5,40,0]\n",
        "# make a prediction\n",
        "yhat = model.predict([row])\n",
        "# summarize prediction\n",
        "print('Predicted Class: %d' % yhat)"
      ],
      "metadata": {
        "id": "e8qY-vkHx9u3",
        "outputId": "9cac9064-8f7d-40fe-e7c0-cd9230293d21",
        "colab": {
          "base_uri": "https://localhost:8080/"
        }
      },
      "execution_count": null,
      "outputs": [
        {
          "output_type": "stream",
          "name": "stdout",
          "text": [
            "Predicted Class: 1\n"
          ]
        }
      ]
    },
    {
      "cell_type": "code",
      "source": [
        "# define grid\n",
        "grid = dict()\n",
        "grid['eta0'] = [0.0001, 0.001, 0.01, 0.1, 1.0]"
      ],
      "metadata": {
        "id": "Vv51BNxkyF6N"
      },
      "execution_count": null,
      "outputs": []
    },
    {
      "cell_type": "code",
      "source": [
        "# grid search learning rate for the perceptron\n",
        "from sklearn.datasets import make_classification\n",
        "from sklearn.model_selection import GridSearchCV\n",
        "from sklearn.model_selection import RepeatedStratifiedKFold\n",
        "from sklearn.linear_model import Perceptron\n",
        "# define dataset\n",
        "X, y = make_classification(n_samples=1000, n_features=10, n_informative=10, n_redundant=0, random_state=1)\n",
        "# define model\n",
        "model = Perceptron()\n",
        "# define model evaluation method\n",
        "cv = RepeatedStratifiedKFold(n_splits=10, n_repeats=3, random_state=1)\n",
        "# define grid\n",
        "grid = dict()\n",
        "grid['eta0'] = [0.0001, 0.001, 0.01, 0.1, 1.0]\n",
        "# define search\n",
        "search = GridSearchCV(model, grid, scoring='accuracy', cv=cv, n_jobs=-1)\n",
        "# perform the search\n",
        "results = search.fit(X, y)\n",
        "# summarize\n",
        "print('Mean Accuracy: %.3f' % results.best_score_)\n",
        "print('Config: %s' % results.best_params_)\n",
        "# summarize all\n",
        "means = results.cv_results_['mean_test_score']\n",
        "params = results.cv_results_['params']\n",
        "for mean, param in zip(means, params):\n",
        "    print(\">%.3f with: %r\" % (mean, param))"
      ],
      "metadata": {
        "id": "Il3kzMcr0RCi",
        "outputId": "b1299e75-821f-440a-99ff-53582c4d41f7",
        "colab": {
          "base_uri": "https://localhost:8080/"
        }
      },
      "execution_count": null,
      "outputs": [
        {
          "output_type": "stream",
          "name": "stdout",
          "text": [
            "Mean Accuracy: 0.857\n",
            "Config: {'eta0': 0.0001}\n",
            ">0.857 with: {'eta0': 0.0001}\n",
            ">0.857 with: {'eta0': 0.001}\n",
            ">0.853 with: {'eta0': 0.01}\n",
            ">0.847 with: {'eta0': 0.1}\n",
            ">0.847 with: {'eta0': 1.0}\n"
          ]
        }
      ]
    },
    {
      "cell_type": "code",
      "source": [
        "\n",
        "...\n",
        "# define grid\n",
        "grid = dict()\n",
        "grid['max_iter'] = [1, 10, 100, 1000, 10000]"
      ],
      "metadata": {
        "id": "UzoyJXzY0TPZ"
      },
      "execution_count": null,
      "outputs": []
    },
    {
      "cell_type": "code",
      "source": [
        "# define model\n",
        "model = Perceptron(eta0=0.0001)"
      ],
      "metadata": {
        "id": "t7_XnpbK0WwW"
      },
      "execution_count": null,
      "outputs": []
    },
    {
      "cell_type": "code",
      "source": [
        "\n",
        "# grid search total epochs for the perceptron\n",
        "from sklearn.datasets import make_classification\n",
        "from sklearn.model_selection import GridSearchCV\n",
        "from sklearn.model_selection import RepeatedStratifiedKFold\n",
        "from sklearn.linear_model import Perceptron\n",
        "# define dataset\n",
        "X, y = make_classification(n_samples=1000, n_features=10, n_informative=10, n_redundant=0, random_state=1)\n",
        "# define model\n",
        "model = Perceptron(eta0=0.0001)\n",
        "# define model evaluation method\n",
        "cv = RepeatedStratifiedKFold(n_splits=10, n_repeats=3, random_state=1)\n",
        "# define grid\n",
        "grid = dict()\n",
        "grid['max_iter'] = [1, 10, 100, 1000, 10000]\n",
        "# define search\n",
        "search = GridSearchCV(model, grid, scoring='accuracy', cv=cv, n_jobs=-1)\n",
        "# perform the search\n",
        "results = search.fit(X, y)\n",
        "# summarize\n",
        "print('Mean Accuracy: %.3f' % results.best_score_)\n",
        "print('Config: %s' % results.best_params_)\n",
        "# summarize all\n",
        "means = results.cv_results_['mean_test_score']\n",
        "params = results.cv_results_['params']\n",
        "for mean, param in zip(means, params):\n",
        "    print(\">%.3f with: %r\" % (mean, param))"
      ],
      "metadata": {
        "id": "wsWYSTrW0Y8C",
        "outputId": "767653c2-39c8-46a6-d091-18020bcb8357",
        "colab": {
          "base_uri": "https://localhost:8080/"
        }
      },
      "execution_count": null,
      "outputs": [
        {
          "output_type": "stream",
          "name": "stdout",
          "text": [
            "Mean Accuracy: 0.857\n",
            "Config: {'max_iter': 10}\n",
            ">0.850 with: {'max_iter': 1}\n",
            ">0.857 with: {'max_iter': 10}\n",
            ">0.857 with: {'max_iter': 100}\n",
            ">0.857 with: {'max_iter': 1000}\n",
            ">0.857 with: {'max_iter': 10000}\n"
          ]
        }
      ]
    },
    {
      "cell_type": "code",
      "source": [],
      "metadata": {
        "id": "mMMKSTi-0bsw"
      },
      "execution_count": null,
      "outputs": []
    }
  ],
  "metadata": {
    "colab": {
      "collapsed_sections": [],
      "toc_visible": true,
      "provenance": [],
      "include_colab_link": true
    },
    "kernelspec": {
      "display_name": "Python 3",
      "name": "python3"
    }
  },
  "nbformat": 4,
  "nbformat_minor": 0
}